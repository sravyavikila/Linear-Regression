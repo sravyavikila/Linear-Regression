{
 "cells": [
  {
   "cell_type": "code",
   "execution_count": 1,
   "id": "7527e26b",
   "metadata": {},
   "outputs": [],
   "source": [
    "import pandas as pd\n",
    "import numpy as np\n",
    "import matplotlib.pyplot as plt\n",
    "%matplotlib inline"
   ]
  },
  {
   "cell_type": "code",
   "execution_count": 2,
   "id": "87c10ac8",
   "metadata": {},
   "outputs": [
    {
     "name": "stdout",
     "output_type": "stream",
     "text": [
      "/Users/rajeshprabhakar/Desktop/Hackathon/HousePrice Prediction\n"
     ]
    }
   ],
   "source": [
    "import io\n",
    "%cd '/Users/rajeshprabhakar/Desktop/Hackathon/HousePrice Prediction'"
   ]
  },
  {
   "cell_type": "code",
   "execution_count": 3,
   "id": "a9fef08e",
   "metadata": {},
   "outputs": [],
   "source": [
    "housetrain=pd.read_csv('train.csv')"
   ]
  },
  {
   "cell_type": "code",
   "execution_count": 4,
   "id": "ef4a8df6",
   "metadata": {},
   "outputs": [],
   "source": [
    "housetest=pd.read_csv('test.csv')"
   ]
  },
  {
   "cell_type": "code",
   "execution_count": 5,
   "id": "72d95eb9",
   "metadata": {},
   "outputs": [
    {
     "name": "stdout",
     "output_type": "stream",
     "text": [
      "(1460, 81)\n",
      "(1459, 80)\n"
     ]
    }
   ],
   "source": [
    "print(housetrain.shape)\n",
    "print(housetest.shape)"
   ]
  },
  {
   "cell_type": "code",
   "execution_count": 6,
   "id": "c00a437f",
   "metadata": {},
   "outputs": [],
   "source": [
    "housetest['SalePrice']='test'"
   ]
  },
  {
   "cell_type": "code",
   "execution_count": 7,
   "id": "7c5433dd",
   "metadata": {},
   "outputs": [],
   "source": [
    "combinedf=pd.concat([housetrain,housetest],axis=0)"
   ]
  },
  {
   "cell_type": "code",
   "execution_count": 59,
   "id": "d406e214",
   "metadata": {},
   "outputs": [],
   "source": [
    "objectcols=combinedf.select_dtypes(include=['object'])\n",
    "numericcols=combinedf.select_dtypes(include=np.number)"
   ]
  },
  {
   "cell_type": "code",
   "execution_count": 60,
   "id": "8947c4d1",
   "metadata": {},
   "outputs": [
    {
     "name": "stdout",
     "output_type": "stream",
     "text": [
      "(2919, 44)\n",
      "(2919, 37)\n"
     ]
    }
   ],
   "source": [
    "print(objectcols.shape)\n",
    "print(numericcols.shape)"
   ]
  },
  {
   "cell_type": "code",
   "execution_count": 69,
   "id": "762aada4",
   "metadata": {},
   "outputs": [
    {
     "data": {
      "text/plain": [
       "MSZoning         0\n",
       "Street           0\n",
       "BsmtFinType1     0\n",
       "BsmtFinType2     0\n",
       "Heating          0\n",
       "HeatingQC        0\n",
       "CentralAir       0\n",
       "Electrical       0\n",
       "KitchenQual      0\n",
       "Functional       0\n",
       "FireplaceQu      0\n",
       "GarageType       0\n",
       "GarageFinish     0\n",
       "GarageQual       0\n",
       "GarageCond       0\n",
       "PavedDrive       0\n",
       "PoolQC           0\n",
       "Fence            0\n",
       "MiscFeature      0\n",
       "SaleType         0\n",
       "SaleCondition    0\n",
       "BsmtExposure     0\n",
       "BsmtCond         0\n",
       "BsmtQual         0\n",
       "Condition2       0\n",
       "Alley            0\n",
       "LotShape         0\n",
       "LandContour      0\n",
       "Utilities        0\n",
       "LotConfig        0\n",
       "LandSlope        0\n",
       "Neighborhood     0\n",
       "Condition1       0\n",
       "BldgType         0\n",
       "Foundation       0\n",
       "HouseStyle       0\n",
       "RoofStyle        0\n",
       "RoofMatl         0\n",
       "Exterior1st      0\n",
       "Exterior2nd      0\n",
       "MasVnrType       0\n",
       "ExterQual        0\n",
       "ExterCond        0\n",
       "SalePrice        0\n",
       "dtype: int64"
      ]
     },
     "execution_count": 69,
     "metadata": {},
     "output_type": "execute_result"
    }
   ],
   "source": [
    "objectcols.isnull().sum().sort_values(ascending=False)"
   ]
  },
  {
   "cell_type": "code",
   "execution_count": 62,
   "id": "bcc3e0a7",
   "metadata": {},
   "outputs": [],
   "source": [
    "nonecols=['Alley','Fence','PoolQC','FireplaceQu','MiscFeature']"
   ]
  },
  {
   "cell_type": "code",
   "execution_count": 63,
   "id": "130dabef",
   "metadata": {},
   "outputs": [
    {
     "name": "stderr",
     "output_type": "stream",
     "text": [
      "/var/folders/_3/vlhcj16j1v1br6sy922gsnzc0000gn/T/ipykernel_2879/3808337032.py:2: SettingWithCopyWarning: \n",
      "A value is trying to be set on a copy of a slice from a DataFrame.\n",
      "Try using .loc[row_indexer,col_indexer] = value instead\n",
      "\n",
      "See the caveats in the documentation: https://pandas.pydata.org/pandas-docs/stable/user_guide/indexing.html#returning-a-view-versus-a-copy\n",
      "  objectcols[col]=objectcols[col].fillna('NotAvailable')\n"
     ]
    }
   ],
   "source": [
    "for col in nonecols:\n",
    "    objectcols[col]=objectcols[col].fillna('NotAvailable')"
   ]
  },
  {
   "cell_type": "code",
   "execution_count": 64,
   "id": "2b474057",
   "metadata": {},
   "outputs": [],
   "source": [
    "garagecols=['GarageCond','GarageFinish','GarageType','GarageQual']"
   ]
  },
  {
   "cell_type": "code",
   "execution_count": 65,
   "id": "5faf4fc8",
   "metadata": {},
   "outputs": [
    {
     "name": "stdout",
     "output_type": "stream",
     "text": [
      "TA     2654\n",
      "NaN     159\n",
      "Fa       74\n",
      "Gd       15\n",
      "Po       14\n",
      "Ex        3\n",
      "Name: GarageCond, dtype: int64\n",
      "Unf    1230\n",
      "RFn     811\n",
      "Fin     719\n",
      "NaN     159\n",
      "Name: GarageFinish, dtype: int64\n",
      "Attchd     1723\n",
      "Detchd      779\n",
      "BuiltIn     186\n",
      "NaN         157\n",
      "Basment      36\n",
      "2Types       23\n",
      "CarPort      15\n",
      "Name: GarageType, dtype: int64\n",
      "TA     2604\n",
      "NaN     159\n",
      "Fa      124\n",
      "Gd       24\n",
      "Po        5\n",
      "Ex        3\n",
      "Name: GarageQual, dtype: int64\n"
     ]
    }
   ],
   "source": [
    "for col in garagecols:\n",
    "    garagefreq=objectcols[col].value_counts(dropna=False)\n",
    "    print(garagefreq)"
   ]
  },
  {
   "cell_type": "code",
   "execution_count": 66,
   "id": "fe3303cf",
   "metadata": {},
   "outputs": [],
   "source": [
    "bsmtcols=['BsmtCond','BsmtExposure','BsmtQual','BsmtFinType1',\n",
    "          'BsmtFinType2']"
   ]
  },
  {
   "cell_type": "code",
   "execution_count": 67,
   "id": "c95879ee",
   "metadata": {},
   "outputs": [
    {
     "name": "stdout",
     "output_type": "stream",
     "text": [
      "TA     2606\n",
      "Gd      122\n",
      "Fa      104\n",
      "NaN      82\n",
      "Po        5\n",
      "Name: BsmtCond, dtype: int64\n",
      "No     1904\n",
      "Av      418\n",
      "Gd      276\n",
      "Mn      239\n",
      "NaN      82\n",
      "Name: BsmtExposure, dtype: int64\n",
      "TA     1283\n",
      "Gd     1209\n",
      "Ex      258\n",
      "Fa       88\n",
      "NaN      81\n",
      "Name: BsmtQual, dtype: int64\n",
      "Unf    851\n",
      "GLQ    849\n",
      "ALQ    429\n",
      "Rec    288\n",
      "BLQ    269\n",
      "LwQ    154\n",
      "NaN     79\n",
      "Name: BsmtFinType1, dtype: int64\n",
      "Unf    2493\n",
      "Rec     105\n",
      "LwQ      87\n",
      "NaN      80\n",
      "BLQ      68\n",
      "ALQ      52\n",
      "GLQ      34\n",
      "Name: BsmtFinType2, dtype: int64\n"
     ]
    }
   ],
   "source": [
    "for col in bsmtcols:\n",
    "    bsmtfreq=objectcols[col].value_counts(dropna=False)\n",
    "    print(bsmtfreq)"
   ]
  },
  {
   "cell_type": "code",
   "execution_count": 68,
   "id": "b37be1cc",
   "metadata": {},
   "outputs": [
    {
     "name": "stderr",
     "output_type": "stream",
     "text": [
      "/var/folders/_3/vlhcj16j1v1br6sy922gsnzc0000gn/T/ipykernel_2879/2624162473.py:2: SettingWithCopyWarning: \n",
      "A value is trying to be set on a copy of a slice from a DataFrame.\n",
      "Try using .loc[row_indexer,col_indexer] = value instead\n",
      "\n",
      "See the caveats in the documentation: https://pandas.pydata.org/pandas-docs/stable/user_guide/indexing.html#returning-a-view-versus-a-copy\n",
      "  objectcols[col]=objectcols[col].fillna(\n"
     ]
    }
   ],
   "source": [
    "for col in objectcols.columns:\n",
    "    objectcols[col]=objectcols[col].fillna(\n",
    "        objectcols[col].value_counts().idxmax())"
   ]
  },
  {
   "cell_type": "code",
   "execution_count": 72,
   "id": "e4c62a44",
   "metadata": {},
   "outputs": [
    {
     "data": {
      "text/plain": [
       "Id               0\n",
       "FullBath         0\n",
       "BedroomAbvGr     0\n",
       "KitchenAbvGr     0\n",
       "TotRmsAbvGrd     0\n",
       "Fireplaces       0\n",
       "GarageYrBlt      0\n",
       "GarageCars       0\n",
       "GarageArea       0\n",
       "WoodDeckSF       0\n",
       "OpenPorchSF      0\n",
       "EnclosedPorch    0\n",
       "3SsnPorch        0\n",
       "ScreenPorch      0\n",
       "PoolArea         0\n",
       "MiscVal          0\n",
       "MoSold           0\n",
       "HalfBath         0\n",
       "BsmtHalfBath     0\n",
       "MSSubClass       0\n",
       "BsmtFullBath     0\n",
       "LotFrontage      0\n",
       "LotArea          0\n",
       "OverallQual      0\n",
       "OverallCond      0\n",
       "YearBuilt        0\n",
       "YearRemodAdd     0\n",
       "MasVnrArea       0\n",
       "BsmtFinSF1       0\n",
       "BsmtFinSF2       0\n",
       "BsmtUnfSF        0\n",
       "TotalBsmtSF      0\n",
       "1stFlrSF         0\n",
       "2ndFlrSF         0\n",
       "LowQualFinSF     0\n",
       "GrLivArea        0\n",
       "YrSold           0\n",
       "dtype: int64"
      ]
     },
     "execution_count": 72,
     "metadata": {},
     "output_type": "execute_result"
    }
   ],
   "source": [
    "numericcols.isnull().sum().sort_values(ascending=False)"
   ]
  },
  {
   "cell_type": "code",
   "execution_count": 71,
   "id": "9d1f991f",
   "metadata": {},
   "outputs": [
    {
     "name": "stderr",
     "output_type": "stream",
     "text": [
      "/var/folders/_3/vlhcj16j1v1br6sy922gsnzc0000gn/T/ipykernel_2879/1570491415.py:2: SettingWithCopyWarning: \n",
      "A value is trying to be set on a copy of a slice from a DataFrame.\n",
      "Try using .loc[row_indexer,col_indexer] = value instead\n",
      "\n",
      "See the caveats in the documentation: https://pandas.pydata.org/pandas-docs/stable/user_guide/indexing.html#returning-a-view-versus-a-copy\n",
      "  numericcols[col]=numericcols[col].fillna(\n"
     ]
    }
   ],
   "source": [
    "for col in numericcols.columns:\n",
    "    numericcols[col]=numericcols[col].fillna(\n",
    "    numericcols[col].median())"
   ]
  },
  {
   "cell_type": "code",
   "execution_count": 73,
   "id": "e3c04531",
   "metadata": {},
   "outputs": [
    {
     "data": {
      "text/plain": [
       "Index(['Id', 'MSSubClass', 'LotFrontage', 'LotArea', 'OverallQual',\n",
       "       'OverallCond', 'YearBuilt', 'YearRemodAdd', 'MasVnrArea', 'BsmtFinSF1',\n",
       "       'BsmtFinSF2', 'BsmtUnfSF', 'TotalBsmtSF', '1stFlrSF', '2ndFlrSF',\n",
       "       'LowQualFinSF', 'GrLivArea', 'BsmtFullBath', 'BsmtHalfBath', 'FullBath',\n",
       "       'HalfBath', 'BedroomAbvGr', 'KitchenAbvGr', 'TotRmsAbvGrd',\n",
       "       'Fireplaces', 'GarageYrBlt', 'GarageCars', 'GarageArea', 'WoodDeckSF',\n",
       "       'OpenPorchSF', 'EnclosedPorch', '3SsnPorch', 'ScreenPorch', 'PoolArea',\n",
       "       'MiscVal', 'MoSold', 'YrSold'],\n",
       "      dtype='object')"
      ]
     },
     "execution_count": 73,
     "metadata": {},
     "output_type": "execute_result"
    }
   ],
   "source": [
    "numericcols.columns"
   ]
  },
  {
   "cell_type": "code",
   "execution_count": 74,
   "id": "1c1aa95d",
   "metadata": {},
   "outputs": [],
   "source": [
    "categorycols=numericcols[['OverallQual','OverallCond', 'YearBuilt', \n",
    "                          'YearRemodAdd','GarageYrBlt','MoSold','YrSold']]"
   ]
  },
  {
   "cell_type": "code",
   "execution_count": 75,
   "id": "4b42aa10",
   "metadata": {},
   "outputs": [],
   "source": [
    "numericcols=numericcols.drop(['OverallQual','OverallCond', 'YearBuilt', \n",
    "                          'YearRemodAdd','GarageYrBlt','MoSold','YrSold'],\n",
    "                            axis=1)"
   ]
  },
  {
   "cell_type": "code",
   "execution_count": 77,
   "id": "e5650054",
   "metadata": {},
   "outputs": [
    {
     "name": "stdout",
     "output_type": "stream",
     "text": [
      "(2919, 44)\n",
      "(2919, 30)\n",
      "(2919, 7)\n"
     ]
    }
   ],
   "source": [
    "print(objectcols.shape)\n",
    "print(numericcols.shape)\n",
    "print(categorycols.shape)"
   ]
  },
  {
   "cell_type": "code",
   "execution_count": 78,
   "id": "dafe3cf8",
   "metadata": {},
   "outputs": [],
   "source": [
    "from sklearn.preprocessing import LabelEncoder"
   ]
  },
  {
   "cell_type": "code",
   "execution_count": 79,
   "id": "6895d995",
   "metadata": {},
   "outputs": [],
   "source": [
    "le=LabelEncoder()"
   ]
  },
  {
   "cell_type": "code",
   "execution_count": 81,
   "id": "696af23a",
   "metadata": {},
   "outputs": [],
   "source": [
    "numericcols['SalePrice']=objectcols.SalePrice"
   ]
  },
  {
   "cell_type": "code",
   "execution_count": 82,
   "id": "cba1fefe",
   "metadata": {},
   "outputs": [],
   "source": [
    "objectcols=objectcols.drop('SalePrice',axis=1)"
   ]
  },
  {
   "cell_type": "code",
   "execution_count": 83,
   "id": "d872f2d3",
   "metadata": {},
   "outputs": [],
   "source": [
    "objectcolsdummy=objectcols.apply(le.fit_transform)"
   ]
  },
  {
   "cell_type": "code",
   "execution_count": 84,
   "id": "654d3d81",
   "metadata": {},
   "outputs": [],
   "source": [
    "categorycolsdummy=categorycols.apply(le.fit_transform)"
   ]
  },
  {
   "cell_type": "code",
   "execution_count": 85,
   "id": "7417a4c4",
   "metadata": {},
   "outputs": [],
   "source": [
    "combinedfclean=pd.concat([numericcols,objectcolsdummy,\n",
    "                         categorycolsdummy],axis=1)"
   ]
  },
  {
   "cell_type": "code",
   "execution_count": 86,
   "id": "75b7c9c2",
   "metadata": {},
   "outputs": [],
   "source": [
    "housetraindf=combinedfclean[combinedfclean.SalePrice!='test']\n",
    "housetestdf=combinedfclean[combinedfclean.SalePrice=='test']"
   ]
  },
  {
   "cell_type": "code",
   "execution_count": 87,
   "id": "ec36f120",
   "metadata": {},
   "outputs": [],
   "source": [
    "housetestdf=housetestdf.drop('SalePrice',axis=1)"
   ]
  },
  {
   "cell_type": "code",
   "execution_count": 88,
   "id": "37809efa",
   "metadata": {},
   "outputs": [],
   "source": [
    "y=housetraindf.SalePrice\n",
    "X=housetraindf.drop(['Id','SalePrice'],axis=1)"
   ]
  },
  {
   "cell_type": "code",
   "execution_count": 92,
   "id": "f9960d4d",
   "metadata": {},
   "outputs": [],
   "source": [
    "y=y.astype('int')"
   ]
  },
  {
   "cell_type": "code",
   "execution_count": 93,
   "id": "a3f55513",
   "metadata": {},
   "outputs": [
    {
     "data": {
      "text/plain": [
       "dtype('int64')"
      ]
     },
     "execution_count": 93,
     "metadata": {},
     "output_type": "execute_result"
    }
   ],
   "source": [
    "y.dtype"
   ]
  },
  {
   "cell_type": "code",
   "execution_count": 95,
   "id": "05d708cc",
   "metadata": {},
   "outputs": [
    {
     "data": {
      "text/plain": [
       "<AxesSubplot:>"
      ]
     },
     "execution_count": 95,
     "metadata": {},
     "output_type": "execute_result"
    },
    {
     "data": {
      "image/png": "[encoded data removed]",
      "text/plain": [
       "<Figure size 432x288 with 1 Axes>"
      ]
     },
     "metadata": {
      "needs_background": "light"
     },
     "output_type": "display_data"
    }
   ],
   "source": [
    "np.log(y).plot(kind='box',vert=False)"
   ]
  },
  {
   "cell_type": "code",
   "execution_count": 96,
   "id": "d7275583",
   "metadata": {},
   "outputs": [],
   "source": [
    "from sklearn.linear_model import LinearRegression"
   ]
  },
  {
   "cell_type": "code",
   "execution_count": 97,
   "id": "1ed128d0",
   "metadata": {},
   "outputs": [],
   "source": [
    "reg=LinearRegression()"
   ]
  },
  {
   "cell_type": "code",
   "execution_count": 98,
   "id": "b0caacba",
   "metadata": {},
   "outputs": [],
   "source": [
    "regmodel=reg.fit(X,y)"
   ]
  },
  {
   "cell_type": "code",
   "execution_count": 99,
   "id": "e61859e2",
   "metadata": {},
   "outputs": [
    {
     "data": {
      "text/plain": [
       "0.8543285366987072"
      ]
     },
     "execution_count": 99,
     "metadata": {},
     "output_type": "execute_result"
    }
   ],
   "source": [
    "regmodel.score(X,y)"
   ]
  },
  {
   "cell_type": "code",
   "execution_count": 100,
   "id": "7ebdece6",
   "metadata": {},
   "outputs": [],
   "source": [
    "housetestdf=housetestdf.drop('Id',axis=1)"
   ]
  },
  {
   "cell_type": "code",
   "execution_count": 101,
   "id": "fd70c3bc",
   "metadata": {},
   "outputs": [],
   "source": [
    "regpredict=regmodel.predict(housetestdf)"
   ]
  },
  {
   "cell_type": "code",
   "execution_count": 102,
   "id": "ab2d24b1",
   "metadata": {},
   "outputs": [
    {
     "data": {
      "text/plain": [
       "array([107529.67183567, 161617.95864868, 166564.15970367, ...,\n",
       "       142242.64760156, 113305.91355655, 242018.60134495])"
      ]
     },
     "execution_count": 102,
     "metadata": {},
     "output_type": "execute_result"
    }
   ],
   "source": [
    "regpredict"
   ]
  },
  {
   "cell_type": "code",
   "execution_count": 103,
   "id": "a2e3a93c",
   "metadata": {},
   "outputs": [],
   "source": [
    "pd.DataFrame(regpredict).to_csv(\"reg.csv\")"
   ]
  },
  {
   "cell_type": "code",
   "execution_count": 104,
   "id": "db7151da",
   "metadata": {},
   "outputs": [],
   "source": [
    "from sklearn.tree import DecisionTreeRegressor"
   ]
  },
  {
   "cell_type": "code",
   "execution_count": 105,
   "id": "6cf40784",
   "metadata": {},
   "outputs": [],
   "source": [
    "tree=DecisionTreeRegressor()"
   ]
  },
  {
   "cell_type": "code",
   "execution_count": 106,
   "id": "ffbfb9f4",
   "metadata": {},
   "outputs": [],
   "source": [
    "treemodel=tree.fit(X,y)"
   ]
  },
  {
   "cell_type": "code",
   "execution_count": 107,
   "id": "c6cb5c8d",
   "metadata": {},
   "outputs": [
    {
     "data": {
      "text/plain": [
       "1.0"
      ]
     },
     "execution_count": 107,
     "metadata": {},
     "output_type": "execute_result"
    }
   ],
   "source": [
    "treemodel.score(X,y)"
   ]
  },
  {
   "cell_type": "code",
   "execution_count": 108,
   "id": "eef25e43",
   "metadata": {},
   "outputs": [],
   "source": [
    "treepredict=treemodel.predict(housetestdf)"
   ]
  },
  {
   "cell_type": "code",
   "execution_count": 109,
   "id": "bd02b786",
   "metadata": {},
   "outputs": [],
   "source": [
    "pd.DataFrame(treepredict).to_csv(\"tree.csv\")"
   ]
  },
  {
   "cell_type": "code",
   "execution_count": null,
   "id": "eb262591",
   "metadata": {},
   "outputs": [],
   "source": []
  }
 ],
 "metadata": {
  "kernelspec": {
   "display_name": "Python 3 (ipykernel)",
   "language": "python",
   "name": "python3"
  },
  "language_info": {
   "codemirror_mode": {
    "name": "ipython",
    "version": 3
   },
   "file_extension": ".py",
   "mimetype": "text/x-python",
   "name": "python",
   "nbconvert_exporter": "python",
   "pygments_lexer": "ipython3",
   "version": "3.9.7"
  }
 },
 "nbformat": 4,
 "nbformat_minor": 5
}
