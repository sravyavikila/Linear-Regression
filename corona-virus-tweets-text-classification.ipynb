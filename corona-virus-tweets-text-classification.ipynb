{
 "cells": [
  {
   "cell_type": "code",
   "execution_count": 2,
   "metadata": {
    "_cell_guid": "b1076dfc-b9ad-4769-8c92-a6c4dae69d19",
    "_uuid": "8f2839f25d086af736a60e9eeb907d3b93b6e0e5",
    "execution": {
     "iopub.execute_input": "2022-03-03T10:37:12.001056Z",
     "iopub.status.busy": "2022-03-03T10:37:12.000747Z",
     "iopub.status.idle": "2022-03-03T10:37:12.820765Z",
     "shell.execute_reply": "2022-03-03T10:37:12.819866Z",
     "shell.execute_reply.started": "2022-03-03T10:37:12.001026Z"
    }
   },
   "outputs": [],
   "source": [
    "import pandas as pd \n",
    "import numpy as np \n",
    "import seaborn as sns \n",
    "import matplotlib.pyplot as plt "
   ]
  },
  {
   "cell_type": "code",
   "execution_count": 3,
   "metadata": {
    "execution": {
     "iopub.execute_input": "2022-03-03T10:37:12.822807Z",
     "iopub.status.busy": "2022-03-03T10:37:12.822564Z",
     "iopub.status.idle": "2022-03-03T10:37:12.890003Z",
     "shell.execute_reply": "2022-03-03T10:37:12.889288Z",
     "shell.execute_reply.started": "2022-03-03T10:37:12.822773Z"
    }
   },
   "outputs": [],
   "source": [
    "df = pd.read_csv('../input/covid-19-nlp-text-classification/Corona_NLP_test.csv')\n",
    "df.head(10)"
   ]
  },
  {
   "cell_type": "code",
   "execution_count": 4,
   "metadata": {
    "execution": {
     "iopub.execute_input": "2022-03-03T10:37:12.891671Z",
     "iopub.status.busy": "2022-03-03T10:37:12.891381Z",
     "iopub.status.idle": "2022-03-03T10:37:12.901164Z",
     "shell.execute_reply": "2022-03-03T10:37:12.900550Z",
     "shell.execute_reply.started": "2022-03-03T10:37:12.891632Z"
    }
   },
   "outputs": [],
   "source": [
    "df.isnull().sum()"
   ]
  },
  {
   "cell_type": "code",
   "execution_count": 5,
   "metadata": {
    "execution": {
     "iopub.execute_input": "2022-03-03T10:37:12.903109Z",
     "iopub.status.busy": "2022-03-03T10:37:12.902669Z",
     "iopub.status.idle": "2022-03-03T10:37:13.168242Z",
     "shell.execute_reply": "2022-03-03T10:37:13.167579Z",
     "shell.execute_reply.started": "2022-03-03T10:37:12.903073Z"
    }
   },
   "outputs": [],
   "source": [
    "plt.figure(figsize=(8,4),dpi = 150)\n",
    "sns.countplot(data = df , x = 'Sentiment' )"
   ]
  },
  {
   "cell_type": "code",
   "execution_count": 6,
   "metadata": {
    "execution": {
     "iopub.execute_input": "2022-03-03T10:37:13.170650Z",
     "iopub.status.busy": "2022-03-03T10:37:13.170323Z",
     "iopub.status.idle": "2022-03-03T10:37:13.175880Z",
     "shell.execute_reply": "2022-03-03T10:37:13.175222Z",
     "shell.execute_reply.started": "2022-03-03T10:37:13.170612Z"
    }
   },
   "outputs": [],
   "source": [
    "# Now we are going to define X and y : \n",
    "X = df['OriginalTweet']\n",
    "y = df['Sentiment']"
   ]
  },
  {
   "cell_type": "code",
   "execution_count": 7,
   "metadata": {
    "execution": {
     "iopub.execute_input": "2022-03-03T10:37:13.177527Z",
     "iopub.status.busy": "2022-03-03T10:37:13.176919Z",
     "iopub.status.idle": "2022-03-03T10:37:13.320363Z",
     "shell.execute_reply": "2022-03-03T10:37:13.319685Z",
     "shell.execute_reply.started": "2022-03-03T10:37:13.177489Z"
    }
   },
   "outputs": [],
   "source": [
    "# We are going to make train test split : \n",
    "from sklearn.model_selection import train_test_split"
   ]
  },
  {
   "cell_type": "code",
   "execution_count": 8,
   "metadata": {
    "execution": {
     "iopub.execute_input": "2022-03-03T10:37:13.321920Z",
     "iopub.status.busy": "2022-03-03T10:37:13.321463Z",
     "iopub.status.idle": "2022-03-03T10:37:13.331064Z",
     "shell.execute_reply": "2022-03-03T10:37:13.330367Z",
     "shell.execute_reply.started": "2022-03-03T10:37:13.321882Z"
    }
   },
   "outputs": [],
   "source": [
    "X_train, X_test, y_train, y_test = train_test_split(X, y, test_size=0.20, random_state=101)"
   ]
  },
  {
   "cell_type": "code",
   "execution_count": 9,
   "metadata": {
    "execution": {
     "iopub.execute_input": "2022-03-03T10:37:13.332988Z",
     "iopub.status.busy": "2022-03-03T10:37:13.332260Z",
     "iopub.status.idle": "2022-03-03T10:37:13.408813Z",
     "shell.execute_reply": "2022-03-03T10:37:13.408101Z",
     "shell.execute_reply.started": "2022-03-03T10:37:13.332952Z"
    }
   },
   "outputs": [],
   "source": [
    "from sklearn.feature_extraction.text import TfidfVectorizer\n",
    "from sklearn.pipeline import Pipeline\n",
    "from sklearn.svm import LinearSVC\n",
    "from sklearn.linear_model import LogisticRegression"
   ]
  },
  {
   "cell_type": "code",
   "execution_count": 10,
   "metadata": {
    "execution": {
     "iopub.execute_input": "2022-03-03T10:37:13.410395Z",
     "iopub.status.busy": "2022-03-03T10:37:13.410129Z",
     "iopub.status.idle": "2022-03-03T10:37:13.414908Z",
     "shell.execute_reply": "2022-03-03T10:37:13.414103Z",
     "shell.execute_reply.started": "2022-03-03T10:37:13.410362Z"
    }
   },
   "outputs": [],
   "source": [
    "pipe = Pipeline([('tfidf',TfidfVectorizer()),\n",
    "                ('svm',LinearSVC())])"
   ]
  },
  {
   "cell_type": "code",
   "execution_count": 11,
   "metadata": {
    "execution": {
     "iopub.execute_input": "2022-03-03T10:37:13.417312Z",
     "iopub.status.busy": "2022-03-03T10:37:13.417115Z",
     "iopub.status.idle": "2022-03-03T10:37:13.637646Z",
     "shell.execute_reply": "2022-03-03T10:37:13.636954Z",
     "shell.execute_reply.started": "2022-03-03T10:37:13.417289Z"
    }
   },
   "outputs": [],
   "source": [
    "pipe.fit(X_train,y_train)"
   ]
  },
  {
   "cell_type": "code",
   "execution_count": 12,
   "metadata": {
    "execution": {
     "iopub.execute_input": "2022-03-03T10:37:13.639338Z",
     "iopub.status.busy": "2022-03-03T10:37:13.638858Z",
     "iopub.status.idle": "2022-03-03T10:37:13.679386Z",
     "shell.execute_reply": "2022-03-03T10:37:13.678731Z",
     "shell.execute_reply.started": "2022-03-03T10:37:13.639288Z"
    }
   },
   "outputs": [],
   "source": [
    "y_pred = pipe.predict(X_test)"
   ]
  },
  {
   "cell_type": "code",
   "execution_count": 13,
   "metadata": {
    "execution": {
     "iopub.execute_input": "2022-03-03T10:37:13.684057Z",
     "iopub.status.busy": "2022-03-03T10:37:13.682233Z",
     "iopub.status.idle": "2022-03-03T10:37:13.688479Z",
     "shell.execute_reply": "2022-03-03T10:37:13.687711Z",
     "shell.execute_reply.started": "2022-03-03T10:37:13.682850Z"
    }
   },
   "outputs": [],
   "source": [
    "from sklearn.metrics import plot_confusion_matrix , classification_report"
   ]
  },
  {
   "cell_type": "code",
   "execution_count": 14,
   "metadata": {
    "execution": {
     "iopub.execute_input": "2022-03-03T10:37:13.821272Z",
     "iopub.status.busy": "2022-03-03T10:37:13.821003Z",
     "iopub.status.idle": "2022-03-03T10:37:13.859148Z",
     "shell.execute_reply": "2022-03-03T10:37:13.858212Z",
     "shell.execute_reply.started": "2022-03-03T10:37:13.821242Z"
    }
   },
   "outputs": [],
   "source": [
    "print(classification_report(y_test,y_pred))"
   ]
  },
  {
   "cell_type": "code",
   "execution_count": 15,
   "metadata": {
    "execution": {
     "iopub.execute_input": "2022-03-03T10:37:14.722350Z",
     "iopub.status.busy": "2022-03-03T10:37:14.721413Z",
     "iopub.status.idle": "2022-03-03T10:37:15.257191Z",
     "shell.execute_reply": "2022-03-03T10:37:15.256343Z",
     "shell.execute_reply.started": "2022-03-03T10:37:14.722297Z"
    }
   },
   "outputs": [],
   "source": [
    "plot_confusion_matrix(pipe,X_test,y_test)\n",
    "plt.xticks(rotation = 90);"
   ]
  },
  {
   "cell_type": "code",
   "execution_count": 16,
   "metadata": {
    "execution": {
     "iopub.execute_input": "2022-03-03T10:37:15.259441Z",
     "iopub.status.busy": "2022-03-03T10:37:15.258948Z",
     "iopub.status.idle": "2022-03-03T10:37:15.684290Z",
     "shell.execute_reply": "2022-03-03T10:37:15.683581Z",
     "shell.execute_reply.started": "2022-03-03T10:37:15.259401Z"
    }
   },
   "outputs": [],
   "source": [
    "pipe.fit(X,y)"
   ]
  },
  {
   "cell_type": "code",
   "execution_count": 17,
   "metadata": {
    "execution": {
     "iopub.execute_input": "2022-03-03T10:37:15.690715Z",
     "iopub.status.busy": "2022-03-03T10:37:15.688284Z",
     "iopub.status.idle": "2022-03-03T10:37:15.701633Z",
     "shell.execute_reply": "2022-03-03T10:37:15.700873Z",
     "shell.execute_reply.started": "2022-03-03T10:37:15.690666Z"
    }
   },
   "outputs": [],
   "source": [
    "pipe.predict(['i came back to work , after 14 days isolation'])"
   ]
  },
  {
   "cell_type": "code",
   "execution_count": 18,
   "metadata": {
    "execution": {
     "iopub.execute_input": "2022-03-03T10:37:15.709087Z",
     "iopub.status.busy": "2022-03-03T10:37:15.706729Z",
     "iopub.status.idle": "2022-03-03T10:37:15.721141Z",
     "shell.execute_reply": "2022-03-03T10:37:15.720020Z",
     "shell.execute_reply.started": "2022-03-03T10:37:15.709038Z"
    }
   },
   "outputs": [],
   "source": [
    "pipe.predict(['doctor said to me that i have corona'])"
   ]
  },
  {
   "cell_type": "code",
   "execution_count": 19,
   "metadata": {
    "execution": {
     "iopub.execute_input": "2022-03-03T10:37:16.826579Z",
     "iopub.status.busy": "2022-03-03T10:37:16.826082Z",
     "iopub.status.idle": "2022-03-03T10:37:16.835360Z",
     "shell.execute_reply": "2022-03-03T10:37:16.834606Z",
     "shell.execute_reply.started": "2022-03-03T10:37:16.826522Z"
    }
   },
   "outputs": [],
   "source": [
    "pipe.predict(['i got the vaccine '])"
   ]
  },
  {
   "cell_type": "code",
   "execution_count": 20,
   "metadata": {
    "execution": {
     "iopub.execute_input": "2022-03-03T10:37:17.341673Z",
     "iopub.status.busy": "2022-03-03T10:37:17.340978Z",
     "iopub.status.idle": "2022-03-03T10:37:17.350377Z",
     "shell.execute_reply": "2022-03-03T10:37:17.349416Z",
     "shell.execute_reply.started": "2022-03-03T10:37:17.341634Z"
    }
   },
   "outputs": [],
   "source": [
    "pipe.predict(['my work on open area'])"
   ]
  },
  {
   "cell_type": "code",
   "execution_count": 21,
   "metadata": {
    "execution": {
     "iopub.execute_input": "2022-03-03T10:37:17.921470Z",
     "iopub.status.busy": "2022-03-03T10:37:17.921190Z",
     "iopub.status.idle": "2022-03-03T10:37:17.932150Z",
     "shell.execute_reply": "2022-03-03T10:37:17.931204Z",
     "shell.execute_reply.started": "2022-03-03T10:37:17.921437Z"
    }
   },
   "outputs": [],
   "source": [
    "pipe.predict(['i am working at home , because i have covid 19 '])"
   ]
  },
  {
   "cell_type": "code",
   "execution_count": 22,
   "metadata": {
    "execution": {
     "iopub.execute_input": "2022-03-03T10:37:18.441218Z",
     "iopub.status.busy": "2022-03-03T10:37:18.440969Z",
     "iopub.status.idle": "2022-03-03T10:37:18.448422Z",
     "shell.execute_reply": "2022-03-03T10:37:18.447695Z",
     "shell.execute_reply.started": "2022-03-03T10:37:18.441190Z"
    }
   },
   "outputs": [],
   "source": [
    "pipe.predict(['I am going to office'])"
   ]
  },
  {
   "cell_type": "code",
   "execution_count": 23,
   "metadata": {
    "execution": {
     "iopub.execute_input": "2022-03-03T10:37:18.961975Z",
     "iopub.status.busy": "2022-03-03T10:37:18.961118Z",
     "iopub.status.idle": "2022-03-03T10:37:18.970526Z",
     "shell.execute_reply": "2022-03-03T10:37:18.969470Z",
     "shell.execute_reply.started": "2022-03-03T10:37:18.961923Z"
    }
   },
   "outputs": [],
   "source": [
    "pipe.predict(['ready to work'])"
   ]
  },
  {
   "cell_type": "code",
   "execution_count": 24,
   "metadata": {
    "execution": {
     "iopub.execute_input": "2022-03-03T10:37:19.421689Z",
     "iopub.status.busy": "2022-03-03T10:37:19.421149Z",
     "iopub.status.idle": "2022-03-03T10:37:19.428663Z",
     "shell.execute_reply": "2022-03-03T10:37:19.427910Z",
     "shell.execute_reply.started": "2022-03-03T10:37:19.421651Z"
    }
   },
   "outputs": [],
   "source": [
    "pipe.predict(['i have consulted doctor'])"
   ]
  },
  {
   "cell_type": "code",
   "execution_count": null,
   "metadata": {},
   "outputs": [],
   "source": []
  }
 ],
 "metadata": {
  "kernelspec": {
   "display_name": "Python 3 (ipykernel)",
   "language": "python",
   "name": "python3"
  },
  "language_info": {
   "codemirror_mode": {
    "name": "ipython",
    "version": 3
   },
   "file_extension": ".py",
   "mimetype": "text/x-python",
   "name": "python",
   "nbconvert_exporter": "python",
   "pygments_lexer": "ipython3",
   "version": "3.9.7"
  }
 },
 "nbformat": 4,
 "nbformat_minor": 4
}
